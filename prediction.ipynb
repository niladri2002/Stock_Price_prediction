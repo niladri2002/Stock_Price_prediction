{
  "nbformat": 4,
  "nbformat_minor": 0,
  "metadata": {
    "colab": {
      "provenance": [],
      "authorship_tag": "ABX9TyPMI7sJKvkoJ1gXFQRxiqCs",
      "include_colab_link": true
    },
    "kernelspec": {
      "name": "python3",
      "display_name": "Python 3"
    },
    "language_info": {
      "name": "python"
    }
  },
  "cells": [
    {
      "cell_type": "markdown",
      "metadata": {
        "id": "view-in-github",
        "colab_type": "text"
      },
      "source": [
        "<a href=\"https://colab.research.google.com/github/niladri2002/Stock_Price_prediction/blob/main/prediction.ipynb\" target=\"_parent\"><img src=\"https://colab.research.google.com/assets/colab-badge.svg\" alt=\"Open In Colab\"/></a>"
      ]
    },
    {
      "cell_type": "code",
      "execution_count": null,
      "metadata": {
        "colab": {
          "base_uri": "https://localhost:8080/"
        },
        "id": "tv_gvwf1atum",
        "outputId": "70f6e2ce-e030-4221-ef92-1db0bb8788e7"
      },
      "outputs": [
        {
          "output_type": "stream",
          "name": "stdout",
          "text": [
            "Enter the opening price: 71.654999\n",
            "Enter the high price: 71.654999\n",
            "Enter the low price: 71.178001\n",
            "Enter the adjusted close price: 71.440002\n",
            "Enter the volume: 0\n",
            "Predicted Close price: 71.44000199999999\n",
            "Enter 'q' to quit or any other key to continue: 71.654999\n",
            "Enter the opening price: 71.654999\n",
            "Enter the high price: 71.178001\n",
            "Enter the low price: 71.440002\n",
            "Enter the adjusted close price: 71.440002\n",
            "Enter the volume: 1300000\n",
            "Predicted Close price: 71.44000199999999\n",
            "Enter 'q' to quit or any other key to continue: \n",
            "Enter the opening price: 44\n",
            "Enter the high price: 48\n",
            "Enter the low price: 41\n",
            "Enter the adjusted close price: 42\n",
            "Enter the volume: 90000222344\n",
            "Predicted Close price: 41.99999999999998\n"
          ]
        }
      ],
      "source": [
        "from sklearn.model_selection import train_test_split\n",
        "from sklearn.linear_model import LinearRegression\n",
        "import pandas as pd\n",
        "import numpy as np\n",
        "\n",
        "# Load the dataset\n",
        "df = pd.read_csv(\"prices.csv\")\n",
        "\n",
        "# Define the features (input parameters) and the target variable (closing price)\n",
        "features = ['Open', 'High', 'Low', 'Adj Close', 'Volume']\n",
        "target = 'Close'\n",
        "\n",
        "# Create feature matrix (X) and target vector (y)\n",
        "X = df[features].values\n",
        "y = df[target].values\n",
        "\n",
        "# Split the data into training and testing sets\n",
        "X_train, X_test, y_train, y_test = train_test_split(X, y, test_size=0.2, random_state=0)\n",
        "\n",
        "# Train a Linear Regression model\n",
        "model = LinearRegression()\n",
        "model.fit(X_train, y_train)\n",
        "\n",
        "while True:\n",
        "    try:\n",
        "        # Take user input for relevant parameters\n",
        "        user_open = float(input(\"Enter the opening price: \"))\n",
        "        user_high = float(input(\"Enter the high price: \"))\n",
        "        user_low = float(input(\"Enter the low price: \"))\n",
        "        user_adj_close = float(input(\"Enter the adjusted close price: \"))\n",
        "        user_volume = float(input(\"Enter the volume: \"))\n",
        "\n",
        "        # Create a feature vector for prediction\n",
        "        user_input = np.array([user_open, user_high, user_low, user_adj_close, user_volume]).reshape(1, -1)\n",
        "\n",
        "        # Predict the closing price based on user input\n",
        "        predicted_close = model.predict(user_input)[0]\n",
        "\n",
        "        print(f\"Predicted Close price: {predicted_close}\")\n",
        "    except ValueError:\n",
        "        print(\"Invalid input. Please enter valid numeric values.\")\n",
        "\n",
        "    user_exit = input(\"Enter 'q' to quit or any other key to continue: \")\n",
        "\n",
        "    if user_exit.lower() == 'q':\n",
        "        break"
      ]
    }
  ]
}